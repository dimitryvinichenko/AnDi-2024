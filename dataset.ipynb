{
 "cells": [
  {
   "cell_type": "code",
   "execution_count": 13,
   "metadata": {},
   "outputs": [],
   "source": [
    "import inspect\n",
    "import numpy as np\n",
    "import matplotlib.pyplot as plt\n",
    "from andi_datasets.models_phenom import models_phenom\n",
    "import stochastic\n",
    "from andi_datasets.utils_trajectories import plot_trajs\n",
    "from tsai.all import *\n",
    "import sklearn.metrics as skm\n",
    "\n",
    "stochastic.random.seed(3)\n",
    "np.random.seed(7)\n",
    "from tqdm import tqdm\n",
    "\n"
   ]
  },
  {
   "cell_type": "code",
   "execution_count": 14,
   "metadata": {},
   "outputs": [],
   "source": [
    "# number of time steps per trajectory (frames)\n",
    "T = 200\n",
    "# number of trajectories\n",
    "N = 1000\n",
    "# Length of box (pixels)\n",
    "L = 1.5*128\n",
    "# diffusion coefficient (pixels^2 / frame)\n",
    "D = 10\n",
    "D_var = 1"
   ]
  },
  {
   "cell_type": "code",
   "execution_count": 15,
   "metadata": {},
   "outputs": [],
   "source": [
    "# alphas = np.random.uniform(0.1, 1.9, 1000) # 20 000\n",
    "D = 0.4\n",
    "\n",
    "# for i, alpha in tqdm(enumerate(alphas)):      \n",
    "\n",
    "trajs_, labels_ = models_phenom().multi_state(N = N, \n",
    "                                                L = L,\n",
    "                                                T = T,\n",
    "                                                alphas = [1.2, 0.7], # Fixed alpha for each state\n",
    "                                                Ds = [10*D, D], # Mean and variance of each state\n",
    "                                                M = [[0.98, 0.02], [0.02, 0.98]]\n",
    "                                                )\n",
    "\n",
    "    # if i == 0:\n",
    "    #     trajs, labels = trajs_, labels_ \n",
    "\n",
    "    # else:\n",
    "    #     trajs, labels = np.concatenate((trajs, trajs_), axis=1), np.concatenate((labels,labels_), axis=1)\n",
    "\n"
   ]
  },
  {
   "cell_type": "code",
   "execution_count": 16,
   "metadata": {},
   "outputs": [],
   "source": [
    "labels = np.zeros((N, 1, 200))\n",
    "trajs = np.zeros((N, 2, 200))"
   ]
  },
  {
   "cell_type": "code",
   "execution_count": 17,
   "metadata": {},
   "outputs": [],
   "source": [
    "for i in range(N):\n",
    "\n",
    "    labels[i,:,:] = labels_[:,i,0]\n",
    "\n",
    "    trajs[i,0,:] = trajs_[:,i, 0]\n",
    "    trajs[i,1,:] = trajs_[:,i, 1]"
   ]
  },
  {
   "cell_type": "code",
   "execution_count": 18,
   "metadata": {},
   "outputs": [
    {
     "data": {
      "text/plain": [
       "(1000, 1, 200)"
      ]
     },
     "execution_count": 18,
     "metadata": {},
     "output_type": "execute_result"
    }
   ],
   "source": [
    "labels.shape"
   ]
  },
  {
   "cell_type": "code",
   "execution_count": 19,
   "metadata": {},
   "outputs": [],
   "source": [
    "with open('/home/dima/Desktop/andi_data/trajs.csv', 'wb') as f:\n",
    "    np.save(f, trajs) \n",
    "\n",
    "with open('/home/dima/Desktop/andi_data/labels.csv', 'wb') as f:\n",
    "    np.save(f, labels) "
   ]
  },
  {
   "cell_type": "code",
   "execution_count": 20,
   "metadata": {},
   "outputs": [],
   "source": [
    "# alphas = np.random.uniform(0.1, 1.9, 1000) # 20 000\n",
    "D = 0.4\n",
    "N_test = 100\n",
    "\n",
    "# for i, alpha in tqdm(enumerate(alphas)):      \n",
    "\n",
    "trajs_, labels_ = models_phenom().multi_state(N = N_test, \n",
    "                                                L = L,\n",
    "                                                T = T,\n",
    "                                                alphas = [1.2, 0.7], # Fixed alpha for each state\n",
    "                                                Ds = [10*D, D], # Mean and variance of each state\n",
    "                                                M = [[0.98, 0.02], [0.02, 0.98]]\n",
    "                                                )\n"
   ]
  },
  {
   "cell_type": "code",
   "execution_count": 21,
   "metadata": {},
   "outputs": [],
   "source": [
    "labels_test = np.zeros((N_test, 1, 200))\n",
    "trajs_test = np.zeros((N_test, 2, 200))\n",
    "\n",
    "for i in range(N_test):\n",
    "\n",
    "    labels_test[i,:,:] = labels_[:,i,0]\n",
    "\n",
    "    trajs_test[i,0,:] = trajs_[:,i, 0]\n",
    "    trajs_test[i,1,:] = trajs_[:,i, 1]"
   ]
  },
  {
   "cell_type": "code",
   "execution_count": 22,
   "metadata": {},
   "outputs": [],
   "source": [
    "with open('/home/dima/Desktop/andi_data/trajs_test.csv', 'wb') as f:\n",
    "    np.save(f, trajs_test) \n",
    "\n",
    "with open('/home/dima/Desktop/andi_data/labels_test.csv', 'wb') as f:\n",
    "    np.save(f, labels_test)"
   ]
  },
  {
   "cell_type": "code",
   "execution_count": null,
   "metadata": {},
   "outputs": [],
   "source": []
  }
 ],
 "metadata": {
  "kernelspec": {
   "display_name": "Python 3",
   "language": "python",
   "name": "python3"
  },
  "language_info": {
   "codemirror_mode": {
    "name": "ipython",
    "version": 3
   },
   "file_extension": ".py",
   "mimetype": "text/x-python",
   "name": "python",
   "nbconvert_exporter": "python",
   "pygments_lexer": "ipython3",
   "version": "3.10.12"
  }
 },
 "nbformat": 4,
 "nbformat_minor": 2
}
