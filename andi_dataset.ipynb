{
 "cells": [
  {
   "cell_type": "code",
   "execution_count": null,
   "metadata": {},
   "outputs": [],
   "source": [
    "pip install andi-datasets"
   ]
  },
  {
   "cell_type": "code",
   "execution_count": null,
   "metadata": {},
   "outputs": [],
   "source": [
    "pip install tsai"
   ]
  },
  {
   "cell_type": "code",
   "execution_count": 52,
   "metadata": {},
   "outputs": [],
   "source": [
    "import inspect\n",
    "import numpy as np\n",
    "import matplotlib.pyplot as plt\n",
    "from andi_datasets.models_phenom import models_phenom\n",
    "import stochastic\n",
    "from andi_datasets.utils_trajectories import plot_trajs\n",
    "from tsai.all import *\n",
    "import sklearn.metrics as skm\n",
    "\n",
    "stochastic.random.seed(3)\n",
    "np.random.seed(7)"
   ]
  },
  {
   "cell_type": "code",
   "execution_count": 53,
   "metadata": {},
   "outputs": [],
   "source": [
    "# number of time steps per trajectory (frames)\n",
    "T = 200\n",
    "# number of trajectories\n",
    "N = 100\n",
    "# Length of box (pixels)\n",
    "L = 1.5*128\n",
    "# diffusion coefficient (pixels^2 / frame)\n",
    "D = 10\n",
    "D_var = 1"
   ]
  },
  {
   "cell_type": "code",
   "execution_count": 54,
   "metadata": {},
   "outputs": [],
   "source": [
    "alphas = np.linspace(0.4, 0.6, 20)\n",
    "Ds = np.linspace(4, 6, 20)\n",
    "\n",
    "for i, alpha in enumerate(alphas):\n",
    "        \n",
    "    for j, D in enumerate(Ds):\n",
    "\n",
    "        trajs_, labels_ = models_phenom().single_state(N = N, \n",
    "                                                        L = L,\n",
    "                                                        T = T,\n",
    "                                                        Ds = D, \n",
    "                                                        alphas = alpha\n",
    "                                                        )\n",
    "        \n",
    "        if i == 0:\n",
    "            trajs, labels = trajs_, labels_ \n",
    "\n",
    "        else:\n",
    "            trajs, labels = np.concatenate((trajs, trajs_), axis=1), np.concatenate((labels,labels_), axis=1)\n",
    "\n",
    "\n",
    "# plot_trajs(trajs, L, N, labels = labels, plot_labels = True, num_to_plot = 4) "
   ]
  },
  {
   "cell_type": "code",
   "execution_count": 55,
   "metadata": {},
   "outputs": [
    {
     "data": {
      "text/plain": [
       "((38100, 2, 200), (38100, 2))"
      ]
     },
     "execution_count": 55,
     "metadata": {},
     "output_type": "execute_result"
    }
   ],
   "source": [
    "trajs = np.swapaxes((np.swapaxes(trajs, 0, 1)), 1, 2)\n",
    "labels = np.swapaxes((np.swapaxes(labels, 0, 1)), 1, 2)\n",
    "labels = labels[:, :2, 0]\n",
    "\n",
    "trajs.shape, labels.shape"
   ]
  },
  {
   "cell_type": "code",
   "execution_count": 56,
   "metadata": {},
   "outputs": [],
   "source": [
    "with open('/home/dima/Desktop/andi_data/trajs.csv', 'wb') as f:\n",
    "    np.save(f, trajs) \n",
    "\n",
    "with open('/home/dima/Desktop/andi_data/labels.csv', 'wb') as f:\n",
    "    np.save(f, labels) "
   ]
  },
  {
   "cell_type": "code",
   "execution_count": 57,
   "metadata": {},
   "outputs": [],
   "source": [
    "alphas = np.linspace(0.5, 0.5, 1)\n",
    "\n",
    "Ds = np.linspace(5, 5, 1)\n",
    "\n",
    "\n",
    "for i, alpha in enumerate(alphas):\n",
    "        \n",
    "    for j, D in enumerate(Ds):\n",
    "\n",
    "        trajs_, labels_ = models_phenom().single_state(N = N, \n",
    "                                                        L = L,\n",
    "                                                        T = T,\n",
    "                                                        Ds = D, \n",
    "                                                        alphas = alpha\n",
    "                                                        )\n",
    "        \n",
    "        if i == 0:\n",
    "            trajs_test, labels_test = trajs_, labels_ \n",
    "\n",
    "        else:\n",
    "            trajs_test, labels_test = np.concatenate((trajs_test, trajs_), axis=1), np.concatenate((labels_test,labels_), axis=1)\n"
   ]
  },
  {
   "cell_type": "code",
   "execution_count": 58,
   "metadata": {},
   "outputs": [
    {
     "data": {
      "text/plain": [
       "((100, 2, 200), (100, 2))"
      ]
     },
     "execution_count": 58,
     "metadata": {},
     "output_type": "execute_result"
    }
   ],
   "source": [
    "trajs_test = np.swapaxes((np.swapaxes(trajs_test, 0, 1)), 1, 2)\n",
    "labels_test = np.swapaxes((np.swapaxes(labels_test, 0, 1)), 1, 2)\n",
    "labels_test = labels_test[:, :2, 0]\n",
    "\n",
    "trajs_test.shape, labels_test.shape"
   ]
  },
  {
   "cell_type": "code",
   "execution_count": 59,
   "metadata": {},
   "outputs": [],
   "source": [
    "with open('/home/dima/Desktop/andi_data/trajs_test.csv', 'wb') as f:\n",
    "    np.save(f, trajs_test) \n",
    "\n",
    "with open('/home/dima/Desktop/andi_data/labels_test.csv', 'wb') as f:\n",
    "    np.save(f, labels_test) "
   ]
  },
  {
   "cell_type": "code",
   "execution_count": null,
   "metadata": {},
   "outputs": [],
   "source": []
  }
 ],
 "metadata": {
  "kernelspec": {
   "display_name": "Python 3",
   "language": "python",
   "name": "python3"
  },
  "language_info": {
   "codemirror_mode": {
    "name": "ipython",
    "version": 3
   },
   "file_extension": ".py",
   "mimetype": "text/x-python",
   "name": "python",
   "nbconvert_exporter": "python",
   "pygments_lexer": "ipython3",
   "version": "3.10.12"
  }
 },
 "nbformat": 4,
 "nbformat_minor": 2
}
