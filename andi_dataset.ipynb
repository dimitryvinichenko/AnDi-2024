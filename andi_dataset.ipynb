{
 "cells": [
  {
   "cell_type": "code",
   "execution_count": 1,
   "metadata": {},
   "outputs": [
    {
     "name": "stdout",
     "output_type": "stream",
     "text": [
      "Defaulting to user installation because normal site-packages is not writeable\n",
      "Collecting andi-datasets\n",
      "  Downloading andi_datasets-2.1.2-py3-none-any.whl (70 kB)\n",
      "\u001b[2K     \u001b[90m━━━━━━━━━━━━━━━━━━━━━━━━━━━━━━━━━━━━━━━\u001b[0m \u001b[32m71.0/71.0 KB\u001b[0m \u001b[31m540.5 kB/s\u001b[0m eta \u001b[36m0:00:00\u001b[0ma \u001b[36m0:00:01\u001b[0m\n",
      "\u001b[?25hRequirement already satisfied: pandas in /home/dima/.local/lib/python3.10/site-packages (from andi-datasets) (2.1.1)\n",
      "Requirement already satisfied: tqdm in /home/dima/.local/lib/python3.10/site-packages (from andi-datasets) (4.66.1)\n",
      "Collecting imageio\n",
      "  Downloading imageio-2.34.0-py3-none-any.whl (313 kB)\n",
      "\u001b[2K     \u001b[90m━━━━━━━━━━━━━━━━━━━━━━━━━━━━━━━━━━━━━━━\u001b[0m \u001b[32m313.4/313.4 KB\u001b[0m \u001b[31m2.8 MB/s\u001b[0m eta \u001b[36m0:00:00\u001b[0m00:01\u001b[0m00:01\u001b[0m\n",
      "\u001b[?25hCollecting stochastic\n",
      "  Downloading stochastic-0.7.0-py3-none-any.whl (48 kB)\n",
      "\u001b[2K     \u001b[90m━━━━━━━━━━━━━━━━━━━━━━━━━━━━━━━━━━━━━━━\u001b[0m \u001b[32m48.1/48.1 KB\u001b[0m \u001b[31m949.8 kB/s\u001b[0m eta \u001b[36m0:00:00\u001b[0ma \u001b[36m0:00:01\u001b[0m\n",
      "\u001b[?25hRequirement already satisfied: h5py in /usr/local/lib/python3.10/dist-packages (from andi-datasets) (3.10.0)\n",
      "Requirement already satisfied: scipy in /home/dima/.local/lib/python3.10/site-packages (from andi-datasets) (1.11.3)\n",
      "Requirement already satisfied: numpy in /home/dima/.local/lib/python3.10/site-packages (from andi-datasets) (1.25.2)\n",
      "Requirement already satisfied: matplotlib in /home/dima/.local/lib/python3.10/site-packages (from andi-datasets) (3.8.0)\n",
      "Requirement already satisfied: scikit-learn in /home/dima/.local/lib/python3.10/site-packages (from andi-datasets) (1.3.1)\n",
      "Requirement already satisfied: pillow>=8.3.2 in /usr/lib/python3/dist-packages (from imageio->andi-datasets) (9.0.1)\n",
      "Requirement already satisfied: pyparsing>=2.3.1 in /usr/lib/python3/dist-packages (from matplotlib->andi-datasets) (2.4.7)\n",
      "Requirement already satisfied: contourpy>=1.0.1 in /home/dima/.local/lib/python3.10/site-packages (from matplotlib->andi-datasets) (1.1.1)\n",
      "Requirement already satisfied: fonttools>=4.22.0 in /home/dima/.local/lib/python3.10/site-packages (from matplotlib->andi-datasets) (4.43.1)\n",
      "Requirement already satisfied: python-dateutil>=2.7 in /home/dima/.local/lib/python3.10/site-packages (from matplotlib->andi-datasets) (2.8.2)\n",
      "Requirement already satisfied: cycler>=0.10 in /home/dima/.local/lib/python3.10/site-packages (from matplotlib->andi-datasets) (0.12.1)\n",
      "Requirement already satisfied: packaging>=20.0 in /home/dima/.local/lib/python3.10/site-packages (from matplotlib->andi-datasets) (23.2)\n",
      "Requirement already satisfied: kiwisolver>=1.0.1 in /home/dima/.local/lib/python3.10/site-packages (from matplotlib->andi-datasets) (1.4.5)\n",
      "Requirement already satisfied: tzdata>=2022.1 in /home/dima/.local/lib/python3.10/site-packages (from pandas->andi-datasets) (2023.3)\n",
      "Requirement already satisfied: pytz>=2020.1 in /usr/lib/python3/dist-packages (from pandas->andi-datasets) (2022.1)\n",
      "Requirement already satisfied: threadpoolctl>=2.0.0 in /home/dima/.local/lib/python3.10/site-packages (from scikit-learn->andi-datasets) (3.2.0)\n",
      "Requirement already satisfied: joblib>=1.1.1 in /home/dima/.local/lib/python3.10/site-packages (from scikit-learn->andi-datasets) (1.3.2)\n",
      "Requirement already satisfied: six>=1.5 in /usr/lib/python3/dist-packages (from python-dateutil>=2.7->matplotlib->andi-datasets) (1.16.0)\n",
      "Installing collected packages: imageio, stochastic, andi-datasets\n",
      "Successfully installed andi-datasets-2.1.2 imageio-2.34.0 stochastic-0.7.0\n",
      "Note: you may need to restart the kernel to use updated packages.\n"
     ]
    }
   ],
   "source": [
    "pip install andi-datasets"
   ]
  },
  {
   "cell_type": "code",
   "execution_count": 2,
   "metadata": {},
   "outputs": [
    {
     "name": "stdout",
     "output_type": "stream",
     "text": [
      "Defaulting to user installation because normal site-packages is not writeable\n",
      "Collecting tsai\n",
      "  Downloading tsai-0.3.9-py3-none-any.whl (324 kB)\n",
      "\u001b[2K     \u001b[90m━━━━━━━━━━━━━━━━━━━━━━━━━━━━━━━━━━━━━━━\u001b[0m \u001b[32m324.3/324.3 KB\u001b[0m \u001b[31m1.6 MB/s\u001b[0m eta \u001b[36m0:00:00\u001b[0m00:01\u001b[0m00:01\u001b[0m\n",
      "\u001b[?25hCollecting pyts>=0.12.0\n",
      "  Downloading pyts-0.13.0-py3-none-any.whl (2.5 MB)\n",
      "\u001b[2K     \u001b[90m━━━━━━━━━━━━━━━━━━━━━━━━━━━━━━━━━━━━━━━━\u001b[0m \u001b[32m2.5/2.5 MB\u001b[0m \u001b[31m12.9 MB/s\u001b[0m eta \u001b[36m0:00:00\u001b[0m00:01\u001b[0m00:01\u001b[0m\n",
      "\u001b[?25hRequirement already satisfied: scikit-learn>=1.2 in /home/dima/.local/lib/python3.10/site-packages (from tsai) (1.3.1)\n",
      "Requirement already satisfied: torch<2.3,>=1.10 in /home/dima/.local/lib/python3.10/site-packages (from tsai) (1.13.0)\n",
      "Collecting fastai>=2.7.14\n",
      "  Downloading fastai-2.7.14-py3-none-any.whl (232 kB)\n",
      "\u001b[2K     \u001b[90m━━━━━━━━━━━━━━━━━━━━━━━━━━━━━━━━━━━━━━━\u001b[0m \u001b[32m232.2/232.2 KB\u001b[0m \u001b[31m4.9 MB/s\u001b[0m eta \u001b[36m0:00:00\u001b[0ma \u001b[36m0:00:01\u001b[0m\n",
      "\u001b[?25hCollecting imbalanced-learn>=0.11.0\n",
      "  Downloading imbalanced_learn-0.12.0-py3-none-any.whl (257 kB)\n",
      "\u001b[2K     \u001b[90m━━━━━━━━━━━━━━━━━━━━━━━━━━━━━━━━━━━━━━━\u001b[0m \u001b[32m257.7/257.7 KB\u001b[0m \u001b[31m1.4 MB/s\u001b[0m eta \u001b[36m0:00:00\u001b[0m00:01\u001b[0m00:01\u001b[0m\n",
      "\u001b[?25hRequirement already satisfied: psutil>=5.4.8 in /home/dima/.local/lib/python3.10/site-packages (from tsai) (5.9.5)\n",
      "Collecting fastdownload<2,>=0.0.5\n",
      "  Downloading fastdownload-0.0.7-py3-none-any.whl (12 kB)\n",
      "Requirement already satisfied: requests in /usr/lib/python3/dist-packages (from fastai>=2.7.14->tsai) (2.25.1)\n",
      "Collecting fastcore<1.6,>=1.5.29\n",
      "  Downloading fastcore-1.5.29-py3-none-any.whl (67 kB)\n",
      "\u001b[2K     \u001b[90m━━━━━━━━━━━━━━━━━━━━━━━━━━━━━━━━━━━━━━━\u001b[0m \u001b[32m67.6/67.6 KB\u001b[0m \u001b[31m998.4 kB/s\u001b[0m eta \u001b[36m0:00:00\u001b[0ma \u001b[36m0:00:01\u001b[0m\n",
      "\u001b[?25hRequirement already satisfied: pandas in /home/dima/.local/lib/python3.10/site-packages (from fastai>=2.7.14->tsai) (2.1.1)\n",
      "Requirement already satisfied: torchvision>=0.11 in /home/dima/.local/lib/python3.10/site-packages (from fastai>=2.7.14->tsai) (0.14.0)\n",
      "Requirement already satisfied: matplotlib in /home/dima/.local/lib/python3.10/site-packages (from fastai>=2.7.14->tsai) (3.8.0)\n",
      "Requirement already satisfied: scipy in /home/dima/.local/lib/python3.10/site-packages (from fastai>=2.7.14->tsai) (1.11.3)\n",
      "Collecting fastprogress>=0.2.4\n",
      "  Downloading fastprogress-1.0.3-py3-none-any.whl (12 kB)\n",
      "Requirement already satisfied: pyyaml in /usr/lib/python3/dist-packages (from fastai>=2.7.14->tsai) (5.4.1)\n",
      "Collecting spacy<4\n",
      "  Downloading spacy-3.7.4-cp310-cp310-manylinux_2_17_x86_64.manylinux2014_x86_64.whl (6.6 MB)\n",
      "\u001b[2K     \u001b[90m━━━━━━━━━━━━━━━━━━━━━━━━━━━━━━━━━━━━━━━━\u001b[0m \u001b[32m6.6/6.6 MB\u001b[0m \u001b[31m26.7 MB/s\u001b[0m eta \u001b[36m0:00:00\u001b[0m00:01\u001b[0m00:01\u001b[0m\n",
      "\u001b[?25hRequirement already satisfied: pillow>=9.0.0 in /usr/lib/python3/dist-packages (from fastai>=2.7.14->tsai) (9.0.1)\n",
      "Requirement already satisfied: packaging in /home/dima/.local/lib/python3.10/site-packages (from fastai>=2.7.14->tsai) (23.2)\n",
      "Requirement already satisfied: pip in /usr/lib/python3/dist-packages (from fastai>=2.7.14->tsai) (22.0.2)\n",
      "Requirement already satisfied: joblib>=1.1.1 in /home/dima/.local/lib/python3.10/site-packages (from imbalanced-learn>=0.11.0->tsai) (1.3.2)\n",
      "Requirement already satisfied: numpy>=1.17.3 in /home/dima/.local/lib/python3.10/site-packages (from imbalanced-learn>=0.11.0->tsai) (1.25.2)\n",
      "Requirement already satisfied: threadpoolctl>=2.0.0 in /home/dima/.local/lib/python3.10/site-packages (from imbalanced-learn>=0.11.0->tsai) (3.2.0)\n",
      "Requirement already satisfied: numba>=0.55.2 in /home/dima/.local/lib/python3.10/site-packages (from pyts>=0.12.0->tsai) (0.58.0)\n",
      "Requirement already satisfied: nvidia-cublas-cu11==11.10.3.66 in /home/dima/.local/lib/python3.10/site-packages (from torch<2.3,>=1.10->tsai) (11.10.3.66)\n",
      "Requirement already satisfied: nvidia-cuda-runtime-cu11==11.7.99 in /home/dima/.local/lib/python3.10/site-packages (from torch<2.3,>=1.10->tsai) (11.7.99)\n",
      "Requirement already satisfied: nvidia-cuda-nvrtc-cu11==11.7.99 in /home/dima/.local/lib/python3.10/site-packages (from torch<2.3,>=1.10->tsai) (11.7.99)\n",
      "Requirement already satisfied: typing-extensions in /home/dima/.local/lib/python3.10/site-packages (from torch<2.3,>=1.10->tsai) (4.8.0)\n",
      "Requirement already satisfied: nvidia-cudnn-cu11==8.5.0.96 in /home/dima/.local/lib/python3.10/site-packages (from torch<2.3,>=1.10->tsai) (8.5.0.96)\n",
      "Requirement already satisfied: setuptools in /usr/lib/python3/dist-packages (from nvidia-cublas-cu11==11.10.3.66->torch<2.3,>=1.10->tsai) (59.6.0)\n",
      "Requirement already satisfied: wheel in /usr/lib/python3/dist-packages (from nvidia-cublas-cu11==11.10.3.66->torch<2.3,>=1.10->tsai) (0.37.1)\n",
      "Requirement already satisfied: llvmlite<0.42,>=0.41.0dev0 in /home/dima/.local/lib/python3.10/site-packages (from numba>=0.55.2->pyts>=0.12.0->tsai) (0.41.0)\n",
      "Collecting thinc<8.3.0,>=8.2.2\n",
      "  Downloading thinc-8.2.3-cp310-cp310-manylinux_2_17_x86_64.manylinux2014_x86_64.whl (922 kB)\n",
      "\u001b[2K     \u001b[90m━━━━━━━━━━━━━━━━━━━━━━━━━━━━━━━━━━━━━━\u001b[0m \u001b[32m922.3/922.3 KB\u001b[0m \u001b[31m13.1 MB/s\u001b[0m eta \u001b[36m0:00:00\u001b[0m00:01\u001b[0m\n",
      "\u001b[?25hCollecting pydantic!=1.8,!=1.8.1,<3.0.0,>=1.7.4\n",
      "  Downloading pydantic-2.6.4-py3-none-any.whl (394 kB)\n",
      "\u001b[2K     \u001b[90m━━━━━━━━━━━━━━━━━━━━━━━━━━━━━━━━━━━━━━━\u001b[0m \u001b[32m394.9/394.9 KB\u001b[0m \u001b[31m6.2 MB/s\u001b[0m eta \u001b[36m0:00:00\u001b[0m00:01\u001b[0m\n",
      "\u001b[?25hCollecting wasabi<1.2.0,>=0.9.1\n",
      "  Downloading wasabi-1.1.2-py3-none-any.whl (27 kB)\n",
      "Collecting murmurhash<1.1.0,>=0.28.0\n",
      "  Downloading murmurhash-1.0.10-cp310-cp310-manylinux_2_5_x86_64.manylinux1_x86_64.manylinux_2_17_x86_64.manylinux2014_x86_64.whl (29 kB)\n",
      "Collecting smart-open<7.0.0,>=5.2.1\n",
      "  Downloading smart_open-6.4.0-py3-none-any.whl (57 kB)\n",
      "\u001b[2K     \u001b[90m━━━━━━━━━━━━━━━━━━━━━━━━━━━━━━━━━━━━━━━\u001b[0m \u001b[32m57.0/57.0 KB\u001b[0m \u001b[31m949.7 kB/s\u001b[0m eta \u001b[36m0:00:00\u001b[0ma \u001b[36m0:00:01\u001b[0m\n",
      "\u001b[?25hCollecting spacy-legacy<3.1.0,>=3.0.11\n",
      "  Downloading spacy_legacy-3.0.12-py2.py3-none-any.whl (29 kB)\n",
      "Collecting weasel<0.4.0,>=0.1.0\n",
      "  Downloading weasel-0.3.4-py3-none-any.whl (50 kB)\n",
      "\u001b[2K     \u001b[90m━━━━━━━━━━━━━━━━━━━━━━━━━━━━━━━━━━━━━━━\u001b[0m \u001b[32m50.1/50.1 KB\u001b[0m \u001b[31m776.9 kB/s\u001b[0m eta \u001b[36m0:00:00\u001b[0ma \u001b[36m0:00:01\u001b[0m\n",
      "\u001b[?25hRequirement already satisfied: tqdm<5.0.0,>=4.38.0 in /home/dima/.local/lib/python3.10/site-packages (from spacy<4->fastai>=2.7.14->tsai) (4.66.1)\n",
      "Collecting typer<0.10.0,>=0.3.0\n",
      "  Downloading typer-0.9.0-py3-none-any.whl (45 kB)\n",
      "\u001b[2K     \u001b[90m━━━━━━━━━━━━━━━━━━━━━━━━━━━━━━━━━━━━━━━━\u001b[0m \u001b[32m45.9/45.9 KB\u001b[0m \u001b[31m1.2 MB/s\u001b[0m eta \u001b[36m0:00:00\u001b[0m\n",
      "\u001b[?25hCollecting srsly<3.0.0,>=2.4.3\n",
      "  Downloading srsly-2.4.8-cp310-cp310-manylinux_2_17_x86_64.manylinux2014_x86_64.whl (493 kB)\n",
      "\u001b[2K     \u001b[90m━━━━━━━━━━━━━━━━━━━━━━━━━━━━━━━━━━━━━━━\u001b[0m \u001b[32m493.0/493.0 KB\u001b[0m \u001b[31m7.4 MB/s\u001b[0m eta \u001b[36m0:00:00\u001b[0m00:01\u001b[0m\n",
      "\u001b[?25hCollecting cymem<2.1.0,>=2.0.2\n",
      "  Downloading cymem-2.0.8-cp310-cp310-manylinux_2_17_x86_64.manylinux2014_x86_64.whl (46 kB)\n",
      "\u001b[2K     \u001b[90m━━━━━━━━━━━━━━━━━━━━━━━━━━━━━━━━━━━━━━━\u001b[0m \u001b[32m46.1/46.1 KB\u001b[0m \u001b[31m671.1 kB/s\u001b[0m eta \u001b[36m0:00:00\u001b[0ma \u001b[36m0:00:01\u001b[0m\n",
      "\u001b[?25hCollecting langcodes<4.0.0,>=3.2.0\n",
      "  Downloading langcodes-3.3.0-py3-none-any.whl (181 kB)\n",
      "\u001b[2K     \u001b[90m━━━━━━━━━━━━━━━━━━━━━━━━━━━━━━━━━━━━━\u001b[0m \u001b[32m181.6/181.6 KB\u001b[0m \u001b[31m485.6 kB/s\u001b[0m eta \u001b[36m0:00:00\u001b[0ma \u001b[36m0:00:01\u001b[0m\n",
      "\u001b[?25hCollecting spacy-loggers<2.0.0,>=1.0.0\n",
      "  Downloading spacy_loggers-1.0.5-py3-none-any.whl (22 kB)\n",
      "Requirement already satisfied: jinja2 in /home/dima/.local/lib/python3.10/site-packages (from spacy<4->fastai>=2.7.14->tsai) (3.1.2)\n",
      "Collecting catalogue<2.1.0,>=2.0.6\n",
      "  Downloading catalogue-2.0.10-py3-none-any.whl (17 kB)\n",
      "Collecting preshed<3.1.0,>=3.0.2\n",
      "  Downloading preshed-3.0.9-cp310-cp310-manylinux_2_5_x86_64.manylinux1_x86_64.manylinux_2_17_x86_64.manylinux2014_x86_64.whl (156 kB)\n",
      "\u001b[2K     \u001b[90m━━━━━━━━━━━━━━━━━━━━━━━━━━━━━━━━━━━━━━━\u001b[0m \u001b[32m156.9/156.9 KB\u001b[0m \u001b[31m3.0 MB/s\u001b[0m eta \u001b[36m0:00:00\u001b[0m00:01\u001b[0m\n",
      "\u001b[?25hRequirement already satisfied: kiwisolver>=1.0.1 in /home/dima/.local/lib/python3.10/site-packages (from matplotlib->fastai>=2.7.14->tsai) (1.4.5)\n",
      "Requirement already satisfied: fonttools>=4.22.0 in /home/dima/.local/lib/python3.10/site-packages (from matplotlib->fastai>=2.7.14->tsai) (4.43.1)\n",
      "Requirement already satisfied: cycler>=0.10 in /home/dima/.local/lib/python3.10/site-packages (from matplotlib->fastai>=2.7.14->tsai) (0.12.1)\n",
      "Requirement already satisfied: contourpy>=1.0.1 in /home/dima/.local/lib/python3.10/site-packages (from matplotlib->fastai>=2.7.14->tsai) (1.1.1)\n",
      "Requirement already satisfied: python-dateutil>=2.7 in /home/dima/.local/lib/python3.10/site-packages (from matplotlib->fastai>=2.7.14->tsai) (2.8.2)\n",
      "Requirement already satisfied: pyparsing>=2.3.1 in /usr/lib/python3/dist-packages (from matplotlib->fastai>=2.7.14->tsai) (2.4.7)\n",
      "Requirement already satisfied: pytz>=2020.1 in /usr/lib/python3/dist-packages (from pandas->fastai>=2.7.14->tsai) (2022.1)\n",
      "Requirement already satisfied: tzdata>=2022.1 in /home/dima/.local/lib/python3.10/site-packages (from pandas->fastai>=2.7.14->tsai) (2023.3)\n",
      "Collecting pydantic-core==2.16.3\n",
      "  Downloading pydantic_core-2.16.3-cp310-cp310-manylinux_2_17_x86_64.manylinux2014_x86_64.whl (2.2 MB)\n",
      "\u001b[2K     \u001b[90m━━━━━━━━━━━━━━━━━━━━━━━━━━━━━━━━━━━━━━━━\u001b[0m \u001b[32m2.2/2.2 MB\u001b[0m \u001b[31m23.6 MB/s\u001b[0m eta \u001b[36m0:00:00\u001b[0m00:01\u001b[0m00:01\u001b[0m\n",
      "\u001b[?25hCollecting annotated-types>=0.4.0\n",
      "  Downloading annotated_types-0.6.0-py3-none-any.whl (12 kB)\n",
      "Requirement already satisfied: six>=1.5 in /usr/lib/python3/dist-packages (from python-dateutil>=2.7->matplotlib->fastai>=2.7.14->tsai) (1.16.0)\n",
      "Collecting confection<1.0.0,>=0.0.1\n",
      "  Downloading confection-0.1.4-py3-none-any.whl (35 kB)\n",
      "Collecting blis<0.8.0,>=0.7.8\n",
      "  Downloading blis-0.7.11-cp310-cp310-manylinux_2_17_x86_64.manylinux2014_x86_64.whl (10.2 MB)\n",
      "\u001b[2K     \u001b[90m━━━━━━━━━━━━━━━━━━━━━━━━━━━━━━━━━━━━━━━━\u001b[0m \u001b[32m10.2/10.2 MB\u001b[0m \u001b[31m28.8 MB/s\u001b[0m eta \u001b[36m0:00:00\u001b[0m00:01\u001b[0m0:01\u001b[0m\n",
      "\u001b[?25hRequirement already satisfied: click<9.0.0,>=7.1.1 in /usr/lib/python3/dist-packages (from typer<0.10.0,>=0.3.0->spacy<4->fastai>=2.7.14->tsai) (8.0.3)\n",
      "Collecting cloudpathlib<0.17.0,>=0.7.0\n",
      "  Downloading cloudpathlib-0.16.0-py3-none-any.whl (45 kB)\n",
      "\u001b[2K     \u001b[90m━━━━━━━━━━━━━━━━━━━━━━━━━━━━━━━━━━━━━━━\u001b[0m \u001b[32m45.0/45.0 KB\u001b[0m \u001b[31m880.3 kB/s\u001b[0m eta \u001b[36m0:00:00\u001b[0ma \u001b[36m0:00:01\u001b[0m\n",
      "\u001b[?25hRequirement already satisfied: MarkupSafe>=2.0 in /usr/lib/python3/dist-packages (from jinja2->spacy<4->fastai>=2.7.14->tsai) (2.0.1)\n",
      "Installing collected packages: cymem, wasabi, typer, spacy-loggers, spacy-legacy, smart-open, pydantic-core, murmurhash, langcodes, fastprogress, fastcore, cloudpathlib, catalogue, blis, annotated-types, srsly, pydantic, preshed, fastdownload, pyts, imbalanced-learn, confection, weasel, thinc, spacy, fastai, tsai\n",
      "Successfully installed annotated-types-0.6.0 blis-0.7.11 catalogue-2.0.10 cloudpathlib-0.16.0 confection-0.1.4 cymem-2.0.8 fastai-2.7.14 fastcore-1.5.29 fastdownload-0.0.7 fastprogress-1.0.3 imbalanced-learn-0.12.0 langcodes-3.3.0 murmurhash-1.0.10 preshed-3.0.9 pydantic-2.6.4 pydantic-core-2.16.3 pyts-0.13.0 smart-open-6.4.0 spacy-3.7.4 spacy-legacy-3.0.12 spacy-loggers-1.0.5 srsly-2.4.8 thinc-8.2.3 tsai-0.3.9 typer-0.9.0 wasabi-1.1.2 weasel-0.3.4\n",
      "Note: you may need to restart the kernel to use updated packages.\n"
     ]
    }
   ],
   "source": [
    "pip install tsai"
   ]
  },
  {
   "cell_type": "code",
   "execution_count": 3,
   "metadata": {},
   "outputs": [],
   "source": [
    "import inspect\n",
    "import numpy as np\n",
    "import matplotlib.pyplot as plt\n",
    "from andi_datasets.models_phenom import models_phenom\n",
    "import stochastic\n",
    "from andi_datasets.utils_trajectories import plot_trajs\n",
    "from tsai.all import *\n",
    "import sklearn.metrics as skm\n",
    "\n",
    "stochastic.random.seed(3)\n",
    "np.random.seed(7)"
   ]
  },
  {
   "cell_type": "code",
   "execution_count": 4,
   "metadata": {},
   "outputs": [],
   "source": [
    "# number of time steps per trajectory (frames)\n",
    "T = 200\n",
    "# number of trajectories\n",
    "N = 100\n",
    "# Length of box (pixels)\n",
    "L = 1.5*128\n",
    "# diffusion coefficient (pixels^2 / frame)\n",
    "D = 10\n",
    "D_var = 1"
   ]
  },
  {
   "cell_type": "code",
   "execution_count": 5,
   "metadata": {},
   "outputs": [],
   "source": [
    "alphas = np.linspace(0.1, 0.9, 100)\n",
    "\n",
    "for i, alpha in enumerate(alphas):\n",
    "\n",
    "\n",
    "    trajs_, labels_ = models_phenom().single_state(N = N, \n",
    "                                                    L = L,\n",
    "                                                    T = T,\n",
    "                                                    Ds = [D, D_var], \n",
    "                                                    alphas = alpha\n",
    "                                                    )\n",
    "    \n",
    "    if i == 0:\n",
    "        trajs, labels = trajs_, labels_ \n",
    "\n",
    "    else:\n",
    "        trajs, labels = np.concatenate((trajs, trajs_), axis=1), np.concatenate((labels,labels_), axis=1)\n",
    "\n",
    "\n",
    "# plot_trajs(trajs, L, N, labels = labels, plot_labels = True, num_to_plot = 4) "
   ]
  },
  {
   "cell_type": "code",
   "execution_count": 6,
   "metadata": {},
   "outputs": [
    {
     "name": "stdout",
     "output_type": "stream",
     "text": [
      "(200, 10000, 2)\n"
     ]
    },
    {
     "data": {
      "text/plain": [
       "(10000, 2, 200)"
      ]
     },
     "execution_count": 6,
     "metadata": {},
     "output_type": "execute_result"
    }
   ],
   "source": [
    "print(trajs.shape)\n",
    "# print(trajs[:,0])\n",
    "trajs = np.swapaxes((np.swapaxes(trajs, 0, 1)), 1, 2)\n",
    "# print(trajs[0,:,:])\n",
    "trajs.shape"
   ]
  },
  {
   "cell_type": "code",
   "execution_count": 7,
   "metadata": {},
   "outputs": [
    {
     "data": {
      "text/plain": [
       "(10000,)"
      ]
     },
     "execution_count": 7,
     "metadata": {},
     "output_type": "execute_result"
    }
   ],
   "source": [
    "labels = np.swapaxes((np.swapaxes(labels, 0, 1)), 1, 2)\n",
    "labels = labels[:, 0, 0]\n",
    "labels.shape"
   ]
  },
  {
   "cell_type": "code",
   "execution_count": 8,
   "metadata": {},
   "outputs": [],
   "source": [
    "with open('/home/dima/Desktop/andi_data/trajs.csv', 'wb') as f:\n",
    "    np.save(f, trajs) \n",
    "\n",
    "with open('/home/dima/Desktop/andi_data/labels.csv', 'wb') as f:\n",
    "    np.save(f, labels) "
   ]
  },
  {
   "cell_type": "code",
   "execution_count": 9,
   "metadata": {},
   "outputs": [],
   "source": [
    "alphas = np.linspace(0.3, 0.7, 2)\n",
    "\n",
    "for i, alpha in enumerate(alphas):\n",
    "\n",
    "\n",
    "    trajs_, labels_ = models_phenom().single_state(N = 1000, \n",
    "                                                    L = L,\n",
    "                                                    T = T,\n",
    "                                                    Ds = [D, D_var], \n",
    "                                                    alphas = alpha\n",
    "                                                    )\n",
    "    \n",
    "    if i == 0:\n",
    "        trajs_test, labels_test = trajs_, labels_ \n",
    "\n",
    "    else:\n",
    "        trajs_test, labels_test = np.concatenate((trajs_test, trajs_), axis=1), np.concatenate((labels_test,labels_), axis=1)\n"
   ]
  },
  {
   "cell_type": "code",
   "execution_count": 10,
   "metadata": {},
   "outputs": [],
   "source": [
    "trajs_test = np.swapaxes((np.swapaxes(trajs_test, 0, 1)), 1, 2)\n",
    "\n",
    "labels_test = np.swapaxes((np.swapaxes(labels_test, 0, 1)), 1, 2)\n",
    "labels_test = labels_test[:, 0, 0]"
   ]
  },
  {
   "cell_type": "code",
   "execution_count": 11,
   "metadata": {},
   "outputs": [],
   "source": [
    "with open('/home/dima/Desktop/andi_data/trajs_test.csv', 'wb') as f:\n",
    "    np.save(f, trajs_test) \n",
    "\n",
    "with open('/home/dima/Desktop/andi_data/labels_test.csv', 'wb') as f:\n",
    "    np.save(f, labels_test) "
   ]
  },
  {
   "cell_type": "code",
   "execution_count": null,
   "metadata": {},
   "outputs": [],
   "source": []
  },
  {
   "cell_type": "code",
   "execution_count": null,
   "metadata": {},
   "outputs": [],
   "source": []
  }
 ],
 "metadata": {
  "kernelspec": {
   "display_name": "Python 3",
   "language": "python",
   "name": "python3"
  },
  "language_info": {
   "codemirror_mode": {
    "name": "ipython",
    "version": 3
   },
   "file_extension": ".py",
   "mimetype": "text/x-python",
   "name": "python",
   "nbconvert_exporter": "python",
   "pygments_lexer": "ipython3",
   "version": "3.10.12"
  }
 },
 "nbformat": 4,
 "nbformat_minor": 2
}
